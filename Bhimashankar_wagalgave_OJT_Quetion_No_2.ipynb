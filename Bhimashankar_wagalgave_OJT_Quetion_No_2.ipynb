{
 "cells": [
  {
   "cell_type": "markdown",
   "id": "bb7a8806",
   "metadata": {},
   "source": [
    "### Q2. Row Echelon Form:"
   ]
  },
  {
   "cell_type": "markdown",
   "id": "0187f200",
   "metadata": {},
   "source": [
    "###### Create a 5x5 matrix, A, with entries randomly chosen integers between 0 and 9. To generate the random matrix, set the random seed as the last two digits of your roll number. Reduce matrix A to its Row Echelon Form by performing elementary row operations"
   ]
  },
  {
   "cell_type": "code",
   "execution_count": 14,
   "id": "9195541e",
   "metadata": {},
   "outputs": [
    {
     "name": "stdout",
     "output_type": "stream",
     "text": [
      "Random Matrix A:\n"
     ]
    },
    {
     "data": {
      "text/latex": [
       "$\\displaystyle \\left[\\begin{matrix}5 & 5 & 4 & 7 & 2\\\\5 & 1 & 3 & 9 & 7\\\\7 & 1 & 1 & 3 & 2\\\\2 & 4 & 4 & 6 & 0\\\\6 & 0 & 7 & 4 & 2\\end{matrix}\\right]$"
      ],
      "text/plain": [
       "Matrix([\n",
       "[5, 5, 4, 7, 2],\n",
       "[5, 1, 3, 9, 7],\n",
       "[7, 1, 1, 3, 2],\n",
       "[2, 4, 4, 6, 0],\n",
       "[6, 0, 7, 4, 2]])"
      ]
     },
     "execution_count": 14,
     "metadata": {},
     "output_type": "execute_result"
    }
   ],
   "source": [
    "import numpy as np\n",
    "import sympy as sp\n",
    "roll_number = 30 \n",
    "np.random.seed(roll_number)\n",
    "A = np.random.randint(0, 10, size=(5, 5))\n",
    "print(\"Random Matrix A:\")\n",
    "sp.Matrix(A)\n",
    "            \n",
    "        "
   ]
  },
  {
   "cell_type": "code",
   "execution_count": 15,
   "id": "c5c9499a",
   "metadata": {},
   "outputs": [
    {
     "name": "stdout",
     "output_type": "stream",
     "text": [
      "\n",
      "Row Echelon Form of Matrix A:\n"
     ]
    },
    {
     "data": {
      "text/latex": [
       "$\\displaystyle \\left[\\begin{matrix}1 & 0 & 0 & 0 & 0\\\\0 & 1 & 0 & 0 & 0\\\\0 & 0 & 1 & 0 & 0\\\\0 & 0 & 0 & 1 & 0\\\\0 & 0 & 0 & 0 & 1\\end{matrix}\\right]$"
      ],
      "text/plain": [
       "Matrix([\n",
       "[1, 0, 0, 0, 0],\n",
       "[0, 1, 0, 0, 0],\n",
       "[0, 0, 1, 0, 0],\n",
       "[0, 0, 0, 1, 0],\n",
       "[0, 0, 0, 0, 1]])"
      ]
     },
     "execution_count": 15,
     "metadata": {},
     "output_type": "execute_result"
    }
   ],
   "source": [
    "rows, cols = A.shape\n",
    "lead = 0\n",
    "row = 0\n",
    "while lead < cols and row < rows:\n",
    "    if A[row, lead] == 0:\n",
    "        non_zero_row = row + 1\n",
    "        while non_zero_row < rows and A[non_zero_row, lead] == 0:\n",
    "            non_zero_row += 1\n",
    "        if non_zero_row == rows:\n",
    "            lead += 1\n",
    "            row = 0\n",
    "            continue\n",
    "        else:\n",
    "            A[[row, non_zero_row]] = A[[non_zero_row, row]]\n",
    "        \n",
    "    A[row] = A[row] / A[row, lead]  \n",
    "    for i in range(rows):\n",
    "        if i != row:\n",
    "            factor = A[i, lead]\n",
    "            A[i] = A[i] - factor * A[row]\n",
    "    lead += 1\n",
    "    row += 1    \n",
    "    \n",
    "print(\"\\nRow Echelon Form of Matrix A:\")\n",
    "sp.Matrix(A)"
   ]
  },
  {
   "cell_type": "code",
   "execution_count": null,
   "id": "28355f74",
   "metadata": {},
   "outputs": [],
   "source": []
  }
 ],
 "metadata": {
  "kernelspec": {
   "display_name": "Python 3 (ipykernel)",
   "language": "python",
   "name": "python3"
  },
  "language_info": {
   "codemirror_mode": {
    "name": "ipython",
    "version": 3
   },
   "file_extension": ".py",
   "mimetype": "text/x-python",
   "name": "python",
   "nbconvert_exporter": "python",
   "pygments_lexer": "ipython3",
   "version": "3.11.5"
  }
 },
 "nbformat": 4,
 "nbformat_minor": 5
}
